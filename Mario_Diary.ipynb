{
  "nbformat": 4,
  "nbformat_minor": 0,
  "metadata": {
    "colab": {
      "provenance": []
    },
    "kernelspec": {
      "name": "python3",
      "display_name": "Python 3"
    },
    "language_info": {
      "name": "python"
    }
  },
  "cells": [
    {
      "cell_type": "code",
      "execution_count": null,
      "metadata": {
        "id": "Xe2rBI3fRzFB"
      },
      "outputs": [],
      "source": [
        "#Mario Log\n",
        "#-----------------------Const----\n",
        "Name='Mario Mario'\n",
        "#-----------------------Var------\n",
        "diary=[]\n",
        "continueDiary=True\n",
        "print(\"Welcome Mario's diary\")\n",
        "while continueDiary:\n",
        "  print(\"Please select an option:  \\n1.Add entry \\n2. list entries \\n3. Read entry \\n4. Exit \")\n",
        "#-----------------------Functions------\n",
        "#-----------------------Main-----\n",
        "print(\"Welcome Mario's diary\")\n",
        "while continueDiary:\n",
        "  print(\"Please select an option:  \\n1.Add entry \\n2. list entries \\n3. Read entry \\n4. Exit \")\n",
        "  ption=input()\n",
        "  if option=='1':\n",
        "    entry=[]\n",
        "    entry.append(input(\"Date of today \"))\n",
        "    entry.append(input('content: '))\n",
        "    diary.append(entry)\n",
        "  elif option=='2':\n",
        "    count=0\n",
        "    for page in diary:\n",
        "      print(page[0])\n",
        "      count=count+1\n",
        "  elif option=='3':\n",
        "    option=input('Please type the number related to the entry that you want to see' )\n",
        "    print(diary[int(option)-1][1])\n",
        "  elif option=='4':\n",
        "    ContinueDiary=False\n",
        "    print('Exit...')\n",
        "  else:\n",
        "    print('Please type the correct value')"
      ]
    }
  ]
}