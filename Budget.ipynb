{
  "nbformat": 4,
  "nbformat_minor": 0,
  "metadata": {
    "colab": {
      "provenance": []
    },
    "kernelspec": {
      "name": "python3",
      "display_name": "Python 3"
    },
    "language_info": {
      "name": "python"
    }
  },
  "cells": [
    {
      "cell_type": "code",
      "execution_count": null,
      "metadata": {
        "id": "Dk7UU4dB1N6l"
      },
      "outputs": [],
      "source": []
    },
    {
      "cell_type": "markdown",
      "source": [
        "1. Personal Budget Tracker\n",
        "Scenario:\n",
        "You're designing a basic budget tracker for a student who wants to monitor their weekly expenses.\n",
        "\n",
        "Requirments:\n",
        "Ask the user to input their weekly income\n",
        "Use variables to store and calculate remianing money\n",
        "Create a list of categories and ask the user to input how much they spent on each\n",
        "Use a loop to go through the categories and calculate total expenses\n",
        "Use a function to display a summary: total spent remaining money, and a warning if they overspent\n",
        "Use branching(if,else) to print financial advice depending on how much money is left.\n",
        "Stretch Goals:\n",
        "Allow the user to add custom categories\n",
        "Give a message if spending in any category exceeds a certain threshold\n",
        "\n",
        "*   List item\n",
        "*   List item\n",
        "\n",
        "\n",
        "\n",
        "*   List item\n",
        "*   List item\n",
        "\n"
      ],
      "metadata": {
        "id": "f5Kt5Krk1uIE"
      }
    },
    {
      "cell_type": "code",
      "source": [
        "try:\n",
        "  totalBudgetMoney=int(input('What is your weekly budget'))\n",
        "\n",
        "  budget=True\n",
        "  while budget:\n",
        "    foodBudget=int(input('How much money do you need food '))\n",
        "    rentBudget=int(input('How much money do you need for rent '))\n",
        "    gasBudget=int(input('How much money do you need for gas '))\n",
        "    remainderOfBudget=totalBudgetMoney-foodBudget-rentBudget-gasBudget\n",
        "    print('Your leftover money is ', remainderOfBudget)\n",
        "    if remainderOfBudget>=0:\n",
        "      budget=False\n",
        "      print('You have budgeted properly')\n",
        "    else:\n",
        "      budget=False\n",
        "      print('You did not budget properly, please review your finances to meet budget goal')\n",
        "except ValueError as e:\n",
        "  print('Please enter a number')\n",
        "\n"
      ],
      "metadata": {
        "id": "alSJuPB_2_i2",
        "colab": {
          "base_uri": "https://localhost:8080/"
        },
        "outputId": "36a70267-5814-409b-86ca-f581fc2f4fa2"
      },
      "execution_count": 58,
      "outputs": [
        {
          "output_type": "stream",
          "name": "stdout",
          "text": [
            "What is your weekly budgetdfgh\n",
            "Please enter a number\n"
          ]
        }
      ]
    },
    {
      "cell_type": "code",
      "source": [],
      "metadata": {
        "id": "A_Y0gcjB2_7m"
      },
      "execution_count": null,
      "outputs": []
    },
    {
      "cell_type": "code",
      "source": [],
      "metadata": {
        "id": "ENzJrl5U7zL2"
      },
      "execution_count": null,
      "outputs": []
    }
  ]
}