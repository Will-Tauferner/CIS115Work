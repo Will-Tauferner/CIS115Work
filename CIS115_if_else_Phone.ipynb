{
  "nbformat": 4,
  "nbformat_minor": 0,
  "metadata": {
    "colab": {
      "provenance": []
    },
    "kernelspec": {
      "name": "python3",
      "display_name": "Python 3"
    },
    "language_info": {
      "name": "python"
    }
  },
  "cells": [
    {
      "cell_type": "markdown",
      "source": [
        "Learning if elif and else statements on python"
      ],
      "metadata": {
        "id": "E3LGMgylKBun"
      }
    },
    {
      "cell_type": "code",
      "execution_count": null,
      "metadata": {
        "id": "dTFirXa0KAAn"
      },
      "outputs": [],
      "source": [
        "#SuperHero or Villain Phone\n",
        "option=int(input('do you want to call a hero or a villain? Type 1 for Hero, 2 for Villain'))\n",
        "if(option==1):\n",
        "  print('You are calling a Hero')\n",
        "  print('What hero do you want to call')\n",
        "  print('1. IronMan \\n2. Spiderman \\n3. Superman')\n",
        "  option=int(input('Please type the number related to the Hero '))\n",
        "  if(option==1):\n",
        "    print('You are calling IronMan...')\n",
        "  elif(option==2):\n",
        "    print('You are calling Spiderman...')\n",
        "  elif(option==3):\n",
        "    print('You are calling Superman...')\n",
        "  else:\n",
        "    print('Please type the right option')\n",
        "elif(option==2):\n",
        "  print('You are calling a Villain')\n",
        "  print('What Villan do you want to call')\n",
        "  print('1. LexLuther \\n2. Venom \\n3. Bane')\n",
        "  option=int(input('Please type the number related to the Villain '))\n",
        "  if(option==1):\n",
        "    print('You are calling LexLuther')\n",
        "  elif(option==2):\n",
        "    print('You are calling Venom')\n",
        "  elif(option==3):\n",
        "    print('You are calling Bane')\n",
        "  else:\n",
        "    print('Please type the right option')\n",
        "else:\n",
        "  print('Please type the right option')"
      ]
    }
  ]
}